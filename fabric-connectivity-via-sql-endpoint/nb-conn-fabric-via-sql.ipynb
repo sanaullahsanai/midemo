{
 "cells": [
  {
   "cell_type": "code",
   "execution_count": null,
   "metadata": {
    "tags": [
     "parameters"
    ]
   },
   "outputs": [],
   "source": [
    "p_lakehouse_name = \"<LAKEHOUSE_NAME>\"\n",
    "p_table_name = \"<LAKEHOUSE_TABLE_NAME>\"\n",
    "p_lakehouse_sql_endpoint = \"<LAKEHOUSE_SQL_ENDPOINT>\"\n",
    "p_azure_key_vault = \"<AZURE_KEY_VAULT>\"\n",
    "\n",
    "# Key Vault secret keys for Service Principal\n",
    "p_secret_client_id = \"<SECRET_CLIENT_ID>\"\n",
    "p_secret_client_secret = \"<SECRET_CLIENT_SECRET>\""
   ]
  },
  {
   "cell_type": "code",
   "execution_count": null,
   "metadata": {},
   "outputs": [],
   "source": [
    "from azure.identity import DefaultAzureCredential\n",
    "from azure.keyvault.secrets import SecretClient\n",
    "\n",
    "kv_uri = f\"https://{p_azure_key_vault}.vault.azure.net/\"\n",
    "\n",
    "credential = DefaultAzureCredential()\n",
    "secret_client = SecretClient(vault_url=kv_uri, credential=credential)\n",
    "\n",
    "client_id = secret_client.get_secret(p_secret_client_id).value\n",
    "client_secret = secret_client.get_secret(p_secret_client_secret).value"
   ]
  },
  {
   "cell_type": "code",
   "execution_count": null,
   "metadata": {},
   "outputs": [],
   "source": [
    "# Service Principal Authentication\n",
    "import pyodbc\n",
    "\n",
    "database = \"dbo\"\n",
    "driver = '{ODBC Driver 18 for SQL Server}'\n",
    "authentication = 'ActiveDirectoryServicePrincipal'\n",
    "\n",
    "try:\n",
    "    conn_str = f'DRIVER={driver};SERVER={p_lakehouse_sql_endpoint},1433;DATABASE={p_lakehouse_name};UID={client_id};PWD={client_secret};Authentication={authentication};Encrypt=Yes'\n",
    "\n",
    "    with pyodbc.connect(conn_str, timeout=20) as conn:\n",
    "        with conn.cursor() as cursor:\n",
    "            cursor.execute(f\"SELECT TOP 10 * FROM {database}.{p_table_name}\")\n",
    "            row = cursor.fetchone()\n",
    "            while row:\n",
    "                print(row)\n",
    "                row = cursor.fetchone()\n",
    "except Exception as e:\n",
    "    print(f\"Error: {str(e)}\")"
   ]
  },
  {
   "cell_type": "code",
   "execution_count": null,
   "metadata": {},
   "outputs": [],
   "source": [
    "## Troubleshooting\n",
    "!nc -zv f\"{p_lakehouse_sql_endpoint}\" 1433\n",
    "!odbcinst -q -d -n\n",
    "!pip list | grep -E \"pyodbc|pyspark\""
   ]
  }
 ],
 "metadata": {
  "language_info": {
   "name": "python"
  }
 },
 "nbformat": 4,
 "nbformat_minor": 2
}
